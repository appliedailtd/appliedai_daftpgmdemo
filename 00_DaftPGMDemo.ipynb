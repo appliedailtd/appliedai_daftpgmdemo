{
 "cells": [
  {
   "cell_type": "markdown",
   "metadata": {},
   "source": [
    "<div style=float:right><img src=\"assets/img/appliedai-logo.png\" width=100 style=\"margin: 0px 20px\"></img></div>\n",
    "\n",
    "##### Applied AI Internal Project\n",
    "# Daft PGM Demo\n",
    "_Autumn 2016_\n",
    "\n",
    "This is a very barebones repo to demonstrate usage of `daft-pgm`, a small package for drawing plate notation diagrams purely in Python.\n",
    "\n",
    "I have found it quite useful for documenting projects that use Bayesian inference, so perhaps others will also find a set of worked examples helpful. This repo accompanies a larger project called **pymc3_vs_pystan** by Jonathan Sedar of Applied AI Ltd, which was written primarily for presentation at the PyData London 2016 Conference.\n",
    "\n",
    "The package is developed by [Dan Foreman-Mackey](http://dan.iel.fm), and there's lots of info and some demos at the project website [http://daft-pgm.org](http://daft-pgm.org)\n",
    "\n",
    ">_As per the project_: Daft is a Python package that uses `matplotlib` to render pixel-perfect probabilistic graphical models for publication in a journal or on the internet. With a short Python script and an intuitive model building syntax you can design directed (Bayesian Networks, directed acyclic graphs) and undirected (Markov random fields) models and save them in any formats that `matplotlib` supports (including PDF, PNG, EPS and SVG).\n",
    "\n",
    "\n",
    "Applied AI Ltd &copy; 2016\n",
    "\n",
    "---\n",
    "\n",
    "    \n",
    "# 00_DaftPGMDemo\n",
    "\n",
    "\n",
    "Here we demonstrate drawing plate notation diagrams for a set of hierarchical linear models.\n",
    "\n",
    "\n",
    "+ [Setup](#Setup)\n",
    "\n",
    "\n",
    "+ [Pooled Model](#Pooled-Model)\n",
    "\n",
    "\n",
    "+ [Unpooled Model](#Unpooled-Model)\n",
    "\n",
    "\n",
    "+ [Fully Unpooled Model](#Fully Unpooled-Model)\n",
    "\n",
    "\n",
    "+ [Partial-Pooled Model](#Partial-Pooled-Model)\n",
    "\n",
    "\n",
    "+ [Hierarchical Model](#Hierarchical-Model)"
   ]
  },
  {
   "cell_type": "markdown",
   "metadata": {},
   "source": [
    "# Setup"
   ]
  },
  {
   "cell_type": "code",
   "execution_count": 1,
   "metadata": {
    "collapsed": false
   },
   "outputs": [],
   "source": [
    "%matplotlib inline\n",
    "%qtconsole --colors=linux  \n",
    "%load_ext watermark\n",
    "# %connect_info"
   ]
  },
  {
   "cell_type": "code",
   "execution_count": 11,
   "metadata": {
    "collapsed": false
   },
   "outputs": [
    {
     "name": "stdout",
     "output_type": "stream",
     "text": [
      "2016-09-05 \n",
      "\n",
      "CPython 3.5.2\n",
      "IPython 5.1.0\n",
      "\n",
      "numpy 1.11.1\n",
      "pandas 0.18.1\n",
      "matplotlib 1.5.1\n",
      "daft 0.0.4\n",
      "\n",
      "compiler   : GCC 4.2.1 Compatible Apple LLVM 4.2 (clang-425.0.28)\n",
      "system     : Darwin\n",
      "release    : 14.5.0\n",
      "machine    : x86_64\n",
      "processor  : i386\n",
      "CPU cores  : 4\n",
      "interpreter: 64bit\n",
      "Git hash   : HEAD\n"
     ]
    }
   ],
   "source": [
    "import matplotlib.pyplot as plt\n",
    "from matplotlib import rc\n",
    "import daft\n",
    "\n",
    "# filter warnings for presentation's sake\n",
    "import warnings\n",
    "warnings.filterwarnings('ignore')\n",
    "\n",
    "plt.rcParams['figure.figsize'] = 14, 8\n",
    "rc(\"font\", family=\"serif\", size=12)\n",
    "rc(\"text\", usetex=False)\n",
    "\n",
    "%watermark -dmvgp numpy,pandas,matplotlib,daft"
   ]
  },
  {
   "cell_type": "markdown",
   "metadata": {},
   "source": [
    "---"
   ]
  },
  {
   "cell_type": "markdown",
   "metadata": {},
   "source": [
    "# Pooled Model"
   ]
  },
  {
   "cell_type": "markdown",
   "metadata": {},
   "source": [
    "Pool (ignore) the `parent` and `mfr` features.\n",
    "\n",
    "$$y \\sim \\mathcal{N}(\\beta^{T} \\bf{x},\\epsilon)$$\n",
    "\n",
    "where:  \n",
    "$\\beta$ are our coeffs in the linear model  \n",
    "$\\bf{x}$ is the vector of features describing each car in the dataset  \n",
    "$\\epsilon \\sim \\mathcal{HalfCauchy}(0, 10)$ "
   ]
  },
  {
   "cell_type": "code",
   "execution_count": 6,
   "metadata": {
    "collapsed": false
   },
   "outputs": [
    {
     "data": {
      "image/png": "[encoded data removed]",
      "text/plain": [
       "<matplotlib.figure.Figure at 0x10d8af6a0>"
      ]
     },
     "metadata": {},
     "output_type": "display_data"
    }
   ],
   "source": [
    "# create the PGM layout\n",
    "pgm = daft.PGM(shape=[2.5, 3.5], origin=[0, 0], grid_unit=4,\n",
    "               label_params={'fontsize':18}, observed_style='shaded')\n",
    "\n",
    "# prior latent vars\n",
    "pgm.add_node(daft.Node(\"beta\", r\"$\\beta_{i}$\", 1, 2.4, scale=2))\n",
    "pgm.add_node(daft.Node(\"beta_mu\", r\"$\\mu_{i}$\", 0.8, 3, scale=2,\n",
    "                       fixed=True, offset=(0,10)))\n",
    "pgm.add_node(daft.Node(\"beta_sd\", r\"$\\sigma_{i}^{2}$\", 1.2, 3, scale=2,\n",
    "                       fixed=True, offset=(0,6)))\n",
    "\n",
    "\n",
    "\n",
    "# fixed exog variables\n",
    "pgm.add_node(daft.Node(\"x\", r\"$\\mathbf{x}_{n}$\", 1, 0.8, scale=2, fixed=True, offset=(0,-30)))\n",
    "\n",
    "# observed data with latent noise\n",
    "pgm.add_node(daft.Node(\"y\", r\"$y_n$\", 1, 1.4, scale=2, observed=True))\n",
    "pgm.add_node(daft.Node(\"epsilon\", r\"$\\epsilon$\", 2, 1.4, scale=2))\n",
    "\n",
    "# draw directed edges\n",
    "pgm.add_edge(\"beta_mu\", \"beta\")\n",
    "pgm.add_edge(\"beta_sd\", \"beta\")\n",
    "pgm.add_edge(\"beta\", \"y\")\n",
    "pgm.add_edge(\"x\", \"y\")\n",
    "pgm.add_edge(\"epsilon\", \"y\")\n",
    "\n",
    "# draw plate\n",
    "pgm.add_plate(daft.Plate([0.5, 0.5, 1, 1.4], label=r\"$n \\in 1:N$\", shift=-0.1))\n",
    "\n",
    "pgm.render()\n",
    "plt.show()"
   ]
  },
  {
   "cell_type": "markdown",
   "metadata": {},
   "source": [
    "---"
   ]
  },
  {
   "cell_type": "markdown",
   "metadata": {},
   "source": [
    "# Unpooled Model"
   ]
  },
  {
   "cell_type": "markdown",
   "metadata": {},
   "source": [
    "Each `mfr` value gets a separate intercept with shared slopes.\n",
    "\n",
    "\n",
    "$$y \\sim \\mathcal{N}(\\beta_{mfr} + \\beta^{T} \\bf{x},\\epsilon)$$\n",
    "\n",
    "where:  \n",
    "$\\beta_{mfr}$ is a separate intercept for each manufacturer  \n",
    "$\\beta$ are our (shared) coeffs in the linear model  \n",
    "$\\bf{x}$ is the vector of features describing each car in the dataset  \n",
    "$\\epsilon \\sim \\mathcal{HalfCauchy}(0, 10)$ "
   ]
  },
  {
   "cell_type": "code",
   "execution_count": 7,
   "metadata": {
    "collapsed": false
   },
   "outputs": [
    {
     "data": {
      "image/png": "[encoded data removed]",
      "text/plain": [
       "<matplotlib.figure.Figure at 0x10d8af400>"
      ]
     },
     "metadata": {},
     "output_type": "display_data"
    }
   ],
   "source": [
    "# create the PGM layout\n",
    "pgm = daft.PGM(shape=[2.5, 3.5], origin=[0, 0], grid_unit=4,\n",
    "               label_params={'fontsize':18}, observed_style='shaded')\n",
    "\n",
    "# prior latent vars\n",
    "pgm.add_node(daft.Node(\"beta\", r\"$\\beta_{i}$\", 1, 2.4, scale=2))\n",
    "pgm.add_node(daft.Node(\"beta_mu\", r\"$\\mu_{i}$\", 0.8, 3, scale=2,\n",
    "                       fixed=True, offset=(0,10)))\n",
    "pgm.add_node(daft.Node(\"beta_sd\", r\"$\\sigma_{i}^{2}$\", 1.2, 3, scale=2,\n",
    "                       fixed=True, offset=(0,6)))\n",
    "\n",
    "\n",
    "\n",
    "# fixed exog variables\n",
    "pgm.add_node(daft.Node(\"x\", r\"$\\mathbf{x}_{n}$\", 1, 0.8, scale=2, fixed=True, offset=(0,-30)))\n",
    "\n",
    "# observed data with latent noise\n",
    "pgm.add_node(daft.Node(\"y\", r\"$y_n$\", 1, 1.4, scale=2, observed=True))\n",
    "pgm.add_node(daft.Node(\"epsilon\", r\"$\\epsilon$\", 2, 1.4, scale=2))\n",
    "\n",
    "# draw directed edges\n",
    "pgm.add_edge(\"beta_mu\", \"beta\")\n",
    "pgm.add_edge(\"beta_sd\", \"beta\")\n",
    "pgm.add_edge(\"beta\", \"y\")\n",
    "pgm.add_edge(\"x\", \"y\")\n",
    "pgm.add_edge(\"epsilon\", \"y\")\n",
    "\n",
    "# draw plate\n",
    "pgm.add_plate(daft.Plate([0.5, 0.5, 1, 1.4], label=r\"$n \\in 1:N$\", shift=-0.1))\n",
    "\n",
    "pgm.render()\n",
    "plt.show()"
   ]
  },
  {
   "cell_type": "code",
   "execution_count": 8,
   "metadata": {
    "collapsed": false
   },
   "outputs": [
    {
     "data": {
      "image/png": "[encoded data removed]",
      "text/plain": [
       "<matplotlib.figure.Figure at 0x10ca152b0>"
      ]
     },
     "metadata": {},
     "output_type": "display_data"
    }
   ],
   "source": [
    "\n",
    "\n",
    "# create the PGM\n",
    "pgm = daft.PGM(shape=[5, 2.5], origin=[0, 0], grid_unit=4,\n",
    "               label_params={'fontsize':18})\n",
    "\n",
    "# priors\n",
    "pgm.add_node(daft.Node(\"beta_mfr\", r\"$\\beta_{mfr}$\", 1, 1, scale=2))\n",
    "pgm.add_node(daft.Node(\"beta\", r\"$\\beta$\", 2, 2, scale=2))\n",
    "\n",
    "# latent variable.\n",
    "pgm.add_node(daft.Node(\"mu\", r\"$\\beta X_{n}$\", 2, 1, scale=2))\n",
    "\n",
    "# noise\n",
    "pgm.add_node(daft.Node(\"epsilon\", r\"$\\epsilon$\", 4, 1, scale=2))\n",
    "\n",
    "# observed data\n",
    "pgm.add_node(daft.Node(\"y\", r\"$y_n$\", 3, 1, scale=2, observed=True))\n",
    "\n",
    "# edges\n",
    "pgm.add_edge(\"beta_mfr\", \"mu\")\n",
    "pgm.add_edge(\"beta\", \"mu\")\n",
    "pgm.add_edge(\"mu\", \"y\")\n",
    "pgm.add_edge(\"epsilon\", \"y\")\n",
    "\n",
    "# plates\n",
    "pgm.add_plate(daft.Plate([1.5, 0.6, 2, 0.9],\n",
    "        label=r\"$n \\in 1:N$\", shift=-0.1))\n",
    "\n",
    "pgm.add_plate(daft.Plate([0.5, 0.5, 3.1, 1.1],\n",
    "        label=r\"$mfr \\in 1:N_{mfr}$\", shift=-0.1))\n",
    "\n",
    "pgm.render()\n",
    "plt.show()"
   ]
  },
  {
   "cell_type": "markdown",
   "metadata": {},
   "source": [
    "# Fully Unpooled Model"
   ]
  },
  {
   "cell_type": "markdown",
   "metadata": {},
   "source": [
    "Of course, we can take this unpooling to an extreme, calculating separate intercepts and slopes for each manufacturer:\n",
    "\n",
    "$$y \\sim \\mathcal{N}(\\beta_{mfr}^{T} \\bf{x},\\epsilon)$$\n",
    "\n",
    "where:  \n",
    "$\\beta_{mfr}$ are separate coeffs for each manufucturer\n",
    "$\\bf{x}$ is the vector of features describing each car in the dataset  \n",
    "$\\epsilon \\sim \\mathcal{HalfCauchy}(0, 10)$ \n",
    "\n"
   ]
  },
  {
   "cell_type": "code",
   "execution_count": null,
   "metadata": {
    "collapsed": true
   },
   "outputs": [],
   "source": []
  },
  {
   "cell_type": "markdown",
   "metadata": {},
   "source": [
    "# Partially-Pooled Model"
   ]
  },
  {
   "cell_type": "markdown",
   "metadata": {},
   "source": [
    "\n",
    "\n",
    "Here we place partial-pooling on intercept only: this hyperparameter lets us - in a balanced way - determine a difference between manufacturers `mfr` $m \\in manufacturer$, keeping all other features constant\n",
    "\n",
    "$$y \\sim \\mathcal{N}(\\beta_{mfr} + \\beta^{T} \\bf{x}, \\epsilon)$$"
   ]
  },
  {
   "cell_type": "markdown",
   "metadata": {},
   "source": [
    "where (tree written upside down):  \n",
    "$\\beta_{mfr} \\sim \\mathcal{N}(\\mu_{mfr}, \\sigma_{mfr})$\n",
    "\n",
    "$\\;\\;\\;\\;\\;\\;\\;\\;\\;\\;\\;\\;|\\_\\_ \\mu_{mfr} \\sim \\mathcal{N}(0, 100) \\;\\;;\\;\\;\n",
    "\\sigma_{mfr} \\sim \\mathcal{HalfCauchy}(0, 10)$ \n",
    "\n",
    "$\\beta$ are the other (shared) coeffs in the linear model  \n",
    "$\\bf{x}$ is the vector of features describing each car in the dataset  \n",
    "$\\epsilon \\sim \\mathcal{HalfCauchy}(0, 10)$ "
   ]
  },
  {
   "cell_type": "code",
   "execution_count": 9,
   "metadata": {
    "collapsed": false
   },
   "outputs": [
    {
     "data": {
      "image/png": "[encoded data removed]",
      "text/plain": [
       "<matplotlib.figure.Figure at 0x10d8643c8>"
      ]
     },
     "metadata": {},
     "output_type": "display_data"
    }
   ],
   "source": [
    "# create the PGM\n",
    "pgm = daft.PGM(shape=[6, 2.5], origin=[0, 0], grid_unit=4,\n",
    "               label_params={'fontsize':18})\n",
    "\n",
    "# priors\n",
    "pgm.add_node(daft.Node(\"beta_mfr_mu\", r\"$\\mu_{mfr}$\", 1, 1, scale=2))\n",
    "pgm.add_node(daft.Node(\"beta_mfr_sd\", r\"$\\sigma_{mfr}$\", 2, 2, scale=2))\n",
    "pgm.add_node(daft.Node(\"beta_mfr\", r\"$\\beta_{mfr}$\", 2, 1, scale=2))\n",
    "pgm.add_node(daft.Node(\"beta\", r\"$\\beta$\", 3, 2, scale=2))\n",
    "\n",
    "# latent variable.\n",
    "pgm.add_node(daft.Node(\"mu\", r\"$\\beta X_{n}$\", 3, 1, scale=2))\n",
    "\n",
    "# noise\n",
    "pgm.add_node(daft.Node(\"sigma\", r\"$\\sigma$\", 5, 1, scale=2))\n",
    "\n",
    "# observed data\n",
    "pgm.add_node(daft.Node(\"y\", r\"$y_n$\", 4, 1, scale=2, observed=True))\n",
    "\n",
    "# edges\n",
    "pgm.add_edge(\"beta_mfr_mu\", \"beta_mfr\")\n",
    "pgm.add_edge(\"beta_mfr_sd\", \"beta_mfr\")\n",
    "pgm.add_edge(\"beta_mfr\", \"mu\")\n",
    "pgm.add_edge(\"beta\", \"mu\")\n",
    "pgm.add_edge(\"mu\", \"y\")\n",
    "pgm.add_edge(\"sigma\", \"y\")\n",
    "\n",
    "# plates\n",
    "pgm.add_plate(daft.Plate([2.5, 0.6, 2, 0.9],\n",
    "        label=r\"$n \\in 1:N$\", shift=-0.1))\n",
    "\n",
    "pgm.add_plate(daft.Plate([1.5, 0.5, 3.1, 1.1],\n",
    "        label=r\"$mfr \\in 1:N_{mfr}$\", shift=-0.1))\n",
    "\n",
    "pgm.render()\n",
    "plt.show()"
   ]
  },
  {
   "cell_type": "markdown",
   "metadata": {},
   "source": [
    "---"
   ]
  },
  {
   "cell_type": "markdown",
   "metadata": {},
   "source": [
    "# Two-level Hierarchical Model"
   ]
  },
  {
   "cell_type": "markdown",
   "metadata": {},
   "source": [
    "Now's the time to consider it: because the parent company may provide important information. \n",
    "\n",
    "$$y \\sim \\mathcal{N}(\\beta_{mfr} + \\beta^{T} \\bf{x}, \\epsilon)$$\n",
    "\n"
   ]
  },
  {
   "cell_type": "markdown",
   "metadata": {},
   "source": [
    "where (tree written upside down):  \n",
    "$\\beta_{mfr} \\sim \\mathcal{N}(\\mu_{mfr}, \\sigma_{mfr})$\n",
    "\n",
    "$\\;\\;\\;\\;|\\_\\_ \\mu_{mfr} \\sim \\mathcal{N}(\\mu_{parent}, \\sigma_{parent}) \\;\\; ; \\;\\;\n",
    "\\sigma_{mfr} \\sim \\mathcal{HalfCauchy}(0, 10)$ \n",
    "\n",
    "$\\;\\;\\;\\;\\;\\;\\;\\;\\;\\;|\\_\\_  \\mu_{parent} \\sim \\mathcal{N}(0, 10) \\;\\; ; \\;\\; \\sigma_{parent}\\sim \\mathcal{HalfCauchy}(0, 10)$  \n",
    "\n",
    "\n",
    "$\\beta$ are the other (shared) coeffs in the linear model  \n",
    "$\\bf{x}$ is the vector of features describing each car in the dataset  \n",
    "$\\epsilon \\sim \\mathcal{HalfCauchy}(0, 10)$ "
   ]
  },
  {
   "cell_type": "code",
   "execution_count": 10,
   "metadata": {
    "collapsed": false
   },
   "outputs": [
    {
     "data": {
      "image/png": "[encoded data removed]",
      "text/plain": [
       "<matplotlib.figure.Figure at 0x10d6de668>"
      ]
     },
     "metadata": {},
     "output_type": "display_data"
    }
   ],
   "source": [
    "# create the PGM\n",
    "pgm = daft.PGM(shape=[7, 2.5], origin=[0, 0], grid_unit=4,\n",
    "               label_params={'fontsize':18})\n",
    "\n",
    "# priors\n",
    "pgm.add_node(daft.Node(\"beta_parent_mu\", r\"$\\mu_{parent}$\", 1, 1, scale=2))\n",
    "pgm.add_node(daft.Node(\"beta_parent_sd\", r\"$\\sigma_{parent}$\", 2, 2.2, scale=2))\n",
    "pgm.add_node(daft.Node(\"beta_mfr_mu\", r\"$\\mu_{mfr}$\", 2, 1, scale=2))\n",
    "pgm.add_node(daft.Node(\"beta_mfr_sd\", r\"$\\sigma_{mfr}$\", 3, 2.2, scale=2))\n",
    "pgm.add_node(daft.Node(\"beta_mfr\", r\"$\\beta_{mfr}$\", 3, 1, scale=2))\n",
    "pgm.add_node(daft.Node(\"beta\", r\"$\\beta$\", 4, 2.2, scale=2))\n",
    "\n",
    "# latent variable.\n",
    "pgm.add_node(daft.Node(\"mu\", r\"$\\beta X_{n}$\", 4, 1, scale=2))\n",
    "\n",
    "# noise\n",
    "pgm.add_node(daft.Node(\"epsilon\", r\"$\\epsilon$\", 6.2, 1, scale=2))\n",
    "\n",
    "# observed data\n",
    "pgm.add_node(daft.Node(\"y\", r\"$y_n$\", 5, 1, scale=2, observed=True))\n",
    "\n",
    "# edges\n",
    "pgm.add_edge(\"beta_parent_mu\", \"beta_mfr_mu\")\n",
    "pgm.add_edge(\"beta_parent_sd\", \"beta_mfr_mu\")\n",
    "pgm.add_edge(\"beta_mfr_mu\", \"beta_mfr\")\n",
    "pgm.add_edge(\"beta_mfr_sd\", \"beta_mfr\")\n",
    "pgm.add_edge(\"beta_mfr\", \"mu\")\n",
    "pgm.add_edge(\"beta\", \"mu\")\n",
    "pgm.add_edge(\"mu\", \"y\")\n",
    "pgm.add_edge(\"epsilon\", \"y\")\n",
    "\n",
    "# plates\n",
    "pgm.add_plate(daft.Plate([3.5, 0.6, 2, 0.9],\n",
    "        label=r\"$n \\in 1:N$\", shift=-0.1))\n",
    "\n",
    "pgm.add_plate(daft.Plate([2.5, 0.5, 3.1, 1.1],\n",
    "        label=r\"$mfr \\in 1:N_{mfr}$\", shift=-0.1))\n",
    "\n",
    "pgm.add_plate(daft.Plate([1.5, 0.4, 4.2, 1.3],\n",
    "        label=r\"$parent \\in 1:N_{parent}$\", shift=-0.1))\n",
    "\n",
    "pgm.render()\n",
    "plt.show()"
   ]
  },
  {
   "cell_type": "markdown",
   "metadata": {},
   "source": [
    "---\n",
    "**Applied AI Ltd &copy; 2016**  \n",
    "<a href='http://www.applied.ai'>applied.ai</a>"
   ]
  }
 ],
 "metadata": {
  "anaconda-cloud": {},
  "kernelspec": {
   "display_name": "Python [default]",
   "language": "python",
   "name": "python3"
  },
  "language_info": {
   "codemirror_mode": {
    "name": "ipython",
    "version": 3
   },
   "file_extension": ".py",
   "mimetype": "text/x-python",
   "name": "python",
   "nbconvert_exporter": "python",
   "pygments_lexer": "ipython3",
   "version": "3.5.2"
  }
 },
 "nbformat": 4,
 "nbformat_minor": 0
}
