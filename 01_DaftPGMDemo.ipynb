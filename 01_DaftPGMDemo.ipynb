{
 "cells": [
  {
   "cell_type": "markdown",
   "metadata": {},
   "source": [
    "<div style=float:right><img src=\"assets/img/appliedai-logo.png\" width=100 style=\"margin: 0px 20px\"></img></div>\n",
    "\n",
    "##### Applied AI Internal Project\n",
    "# Daft PGM Demo\n",
    "_Autumn 2016_\n",
    "\n",
    "Barebones repo to demonstrate usage of `daft-pgm`, a small package for drawing plate notation diagrams purely in Python. The package is developed by [Dan Foreman-Mackey](http://dan.iel.fm), and there's lots of info and some demos at the project website [http://daft-pgm.org](http://daft-pgm.org)\n",
    "\n",
    ">_As per the project_: Daft is a Python package that uses `matplotlib` to render pixel-perfect probabilistic graphical models for publication in a journal or on the internet. With a short Python script and an intuitive model building syntax you can design directed (Bayesian Networks, directed acyclic graphs) and undirected (Markov random fields) models and save them in any formats that `matplotlib` supports (including PDF, PNG, EPS and SVG).\n",
    "\n",
    "\n",
    "This repo accompanies a larger project called [pymc3_vs_pystan](https://github.com/jonsedar/pymc3_vs_pystan) by Jonathan Sedar of Applied AI Ltd, which was written primarily for presentation at the [PyData London 2016 Conference](http://london.pydata.org).\n",
    "\n",
    "Applied AI Ltd &copy; 2016\n",
    "\n",
    "---\n",
    "\n",
    "    \n",
    "# 00_DaftPGMDemo\n",
    "\n",
    "\n",
    "The following sections demonstrate drawing plate notation diagrams for a set of linear models which become progressively more complicated - adding new parameters and hierarchical features.\n",
    "\n",
    "\n",
    "+ [Setup and Data Description](#Setup-and-Data-Description)\n",
    "\n",
    "\n",
    "+ [Pooled Model](#Pooled-Model)\n",
    "\n",
    "\n",
    "+ [Unpooled Model](#Unpooled-Model)\n",
    "\n",
    "\n",
    "+ [Partial-Pooled Model](#Partial-Pooled-Model)\n",
    "\n",
    "\n",
    "+ [Two-Level Hierarchical Model](#Two-Level-Hierarchical-Model)"
   ]
  },
  {
   "cell_type": "markdown",
   "metadata": {},
   "source": [
    "# Setup and Data Description"
   ]
  },
  {
   "cell_type": "code",
   "execution_count": 1,
   "metadata": {
    "collapsed": false
   },
   "outputs": [],
   "source": [
    "%matplotlib inline\n",
    "%qtconsole --colors=linux  \n",
    "%load_ext watermark\n",
    "# %connect_info"
   ]
  },
  {
   "cell_type": "code",
   "execution_count": 11,
   "metadata": {
    "collapsed": false
   },
   "outputs": [
    {
     "name": "stdout",
     "output_type": "stream",
     "text": [
      "2016-09-05 \n",
      "\n",
      "CPython 3.5.2\n",
      "IPython 5.1.0\n",
      "\n",
      "numpy 1.11.1\n",
      "pandas 0.18.1\n",
      "matplotlib 1.5.1\n",
      "daft 0.0.4\n",
      "\n",
      "compiler   : GCC 4.2.1 Compatible Apple LLVM 4.2 (clang-425.0.28)\n",
      "system     : Darwin\n",
      "release    : 14.5.0\n",
      "machine    : x86_64\n",
      "processor  : i386\n",
      "CPU cores  : 4\n",
      "interpreter: 64bit\n",
      "Git hash   : HEAD\n"
     ]
    }
   ],
   "source": [
    "import matplotlib.pyplot as plt\n",
    "from matplotlib import rc\n",
    "import daft\n",
    "\n",
    "# filter warnings for presentation's sake\n",
    "import warnings\n",
    "warnings.filterwarnings('ignore')\n",
    "\n",
    "plt.rcParams['figure.figsize'] = 14, 8\n",
    "rc(\"font\", family=\"serif\", size=12)\n",
    "rc(\"text\", usetex=False)\n",
    "\n",
    "%watermark -dmvgp numpy,pandas,matplotlib,daft"
   ]
  },
  {
   "cell_type": "markdown",
   "metadata": {},
   "source": [
    "## Data Description"
   ]
  },
  {
   "cell_type": "markdown",
   "metadata": {},
   "source": [
    "There is no dataset used in this Notebook, but frequent references are made to the _shape_ of the data. That data comes from a larger project called [pymc3_vs_pystan](https://github.com/jonsedar/pymc3_vs_pystan) by Jonathan Sedar of Applied AI Ltd, which was written primarily for presentation at the [PyData London 2016 Conference](http://london.pydata.org).\n",
    "\n",
    "The dataset is [Car Fuel and Emissions Information](http://carfueldata.direct.gov.uk/) for August 2015 sourced from the [UK VCA Dept](http://www.dft.gov.uk/vca/) (Vehicle Type Approval), available for [direct download](http://carfueldata.direct.gov.uk/downloads/download.aspx?rg=aug2015).\n",
    "\n",
    "The dataset contains information about fuel usage and engine emissions for roughly 2500 cars. Those cars have an inherent hierarchy:\n",
    "\n",
    "parent (e.g. Volkswagen Group)   \n",
    "$\\;\\;\\;\\;\\;\\;|\\_\\_ $ manufacturer (e.g. Audi)  \n",
    "$\\;\\;\\;\\;\\;\\;\\;\\;\\;\\;\\;\\;\\;\\;|\\_\\_ $ model (e.g. Audi A4)\n",
    "\n",
    "... which we can incorporate into our modelling in order to more precisely evaluate car emissions.\n",
    "\n",
    "The basic task then, becomes creating a linear regression to predict a car emissions measure, given a set of exogneous features of the car model (and it's hierarchical manufacturer structure).\n",
    "\n",
    "That's all you really need to know for this Notebook, for more detail see the [pymc3_vs_pystan](https://github.com/jonsedar/pymc3_vs_pystan) repo. "
   ]
  },
  {
   "cell_type": "markdown",
   "metadata": {},
   "source": [
    "---\n",
    "\n",
    "---"
   ]
  },
  {
   "cell_type": "markdown",
   "metadata": {},
   "source": [
    "# Pooled Model"
   ]
  },
  {
   "cell_type": "markdown",
   "metadata": {},
   "source": [
    "The simplest linear model:\n",
    "\n",
    "$$y_{i} \\sim \\mathcal{N}(\\beta^{T} \\mathbf{x}_{i},\\epsilon)$$\n",
    "\n",
    "where:  \n",
    "+ $y_{i} \\sim \\mathcal{Normal}$ is the observed real value for item, $i$  \n",
    "+ $\\mathbf{x}_{i}$ is a vector of descriptive features for each item, $i$  \n",
    "+ $\\epsilon \\sim \\mathcal{HalfCauchy}(0, 10)$ is random noise in the measurement\n",
    "+ $\\beta$ are our pooled (shared) coeffs in the linear model  "
   ]
  },
  {
   "cell_type": "markdown",
   "metadata": {},
   "source": [
    "##### First, create the Daft PGM base object"
   ]
  },
  {
   "cell_type": "code",
   "execution_count": 61,
   "metadata": {
    "collapsed": true
   },
   "outputs": [],
   "source": [
    "# declare the shape and size, and various styling\n",
    "pgm = daft.PGM(shape=[2.5, 3.5], origin=[0, 0], grid_unit=4,\n",
    "               label_params={'fontsize':18}, observed_style='shaded')"
   ]
  },
  {
   "cell_type": "markdown",
   "metadata": {},
   "source": [
    "##### Next, add nodes for the inside plate"
   ]
  },
  {
   "cell_type": "code",
   "execution_count": 62,
   "metadata": {
    "collapsed": false
   },
   "outputs": [
    {
     "data": {
      "text/plain": [
       "<daft.Node at 0x10cb6ca90>"
      ]
     },
     "execution_count": 62,
     "metadata": {},
     "output_type": "execute_result"
    }
   ],
   "source": [
    "# observed data\n",
    "pgm.add_node(daft.Node(\"y\", r\"$y_i$\", 1, 1.4, scale=2, observed=True))\n",
    "pgm.add_node(daft.Node(\"x\", r\"$\\mathbf{x}_{i}$\", 1, 0.8, scale=2, \n",
    "                       fixed=True, offset=(0,-30)))"
   ]
  },
  {
   "cell_type": "code",
   "execution_count": 63,
   "metadata": {
    "collapsed": true
   },
   "outputs": [],
   "source": [
    "# individual items plate\n",
    "pgm.add_plate(daft.Plate([0.5, 0.5, 1, 1.4], label=r\"$i \\in 1:N$\", \n",
    "                         shift=-0.1))"
   ]
  },
  {
   "cell_type": "markdown",
   "metadata": {},
   "source": [
    "##### Next, add nodes for the level upwards, here they have no plate because they are shared"
   ]
  },
  {
   "cell_type": "code",
   "execution_count": 64,
   "metadata": {
    "collapsed": false
   },
   "outputs": [
    {
     "data": {
      "text/plain": [
       "<daft.Node at 0x10dcaeb70>"
      ]
     },
     "execution_count": 64,
     "metadata": {},
     "output_type": "execute_result"
    }
   ],
   "source": [
    "# pooled beta (latent parameters)\n",
    "pgm.add_node(daft.Node(\"beta\", r\"$\\beta$\", 1, 2.4, scale=2))\n",
    "pgm.add_node(daft.Node(\"beta_mu\", r\"$\\mu$\", 0.8, 3, scale=2,\n",
    "                       fixed=True, offset=(0,10)))\n",
    "pgm.add_node(daft.Node(\"beta_sd\", r\"$\\sigma^{2}$\", 1.2, 3, scale=2,\n",
    "                       fixed=True, offset=(0,6)))"
   ]
  },
  {
   "cell_type": "code",
   "execution_count": 65,
   "metadata": {
    "collapsed": false
   },
   "outputs": [
    {
     "data": {
      "text/plain": [
       "<daft.Node at 0x10d6decf8>"
      ]
     },
     "execution_count": 65,
     "metadata": {},
     "output_type": "execute_result"
    }
   ],
   "source": [
    "# pooled measurement error\n",
    "pgm.add_node(daft.Node(\"epsilon\", r\"$\\epsilon$\", 2, 1.4, scale=2))"
   ]
  },
  {
   "cell_type": "markdown",
   "metadata": {},
   "source": [
    "##### Finally, draw the directed edges"
   ]
  },
  {
   "cell_type": "code",
   "execution_count": 66,
   "metadata": {
    "collapsed": false
   },
   "outputs": [
    {
     "data": {
      "text/plain": [
       "<daft.Edge at 0x10dc81a90>"
      ]
     },
     "execution_count": 66,
     "metadata": {},
     "output_type": "execute_result"
    }
   ],
   "source": [
    "# draw directed edges\n",
    "pgm.add_edge(\"beta_mu\", \"beta\")\n",
    "pgm.add_edge(\"beta_sd\", \"beta\")\n",
    "pgm.add_edge(\"beta\", \"y\")\n",
    "pgm.add_edge(\"x\", \"y\")\n",
    "pgm.add_edge(\"epsilon\", \"y\")"
   ]
  },
  {
   "cell_type": "markdown",
   "metadata": {},
   "source": [
    "##### And render"
   ]
  },
  {
   "cell_type": "code",
   "execution_count": 67,
   "metadata": {
    "collapsed": false
   },
   "outputs": [
    {
     "data": {
      "image/png": "[encoded data removed]",
      "text/plain": [
       "<matplotlib.figure.Figure at 0x10d424160>"
      ]
     },
     "metadata": {},
     "output_type": "display_data"
    }
   ],
   "source": [
    "pgm.render()\n",
    "plt.show()"
   ]
  },
  {
   "cell_type": "markdown",
   "metadata": {},
   "source": [
    "**Observe:**\n",
    "\n",
    "Here's our linear model in full:\n",
    "\n",
    "+ $y_{i}$ is shaded, to indicate that it is an observed value\n",
    "+ $\\mathbf{x}_{i}$ is a fixed value. We can choose to show it for completeness\n",
    "+ Both $y_{i}$ and $\\mathbf{x}_{i}$ are contained within a _plate_ to indicate that their values can be different for each item $i \\in 1:N$ in the dataset\n",
    "+ $\\epsilon$ is a single value shared by all items $i$, so it is located outside the _plate_\n",
    "+ $\\beta$ is also single value shared by all items $i$, so it is located outside the _plate_\n",
    "    + $\\mu$ and $\\sigma^{2}$ are both fixed hyperparameters of the $\\beta$ parameter describing its _mean_ and _standard deviation_\n",
    "   "
   ]
  },
  {
   "cell_type": "markdown",
   "metadata": {},
   "source": [
    "**Discussion:**\n",
    "    \n",
    "Plate notation has become something of a standard method for describing models, particularly in the discipline of machine learning. It offers a compact visual representation of model structure, makes it very easy to see the differences between models, and very importantly, encourages good notation practice.\n",
    "\n",
    "However, plate notation is not perfect: it can be hard to indicate the sequence of a complicated algorithm, it is messy to show large numbers of non-shared parameters, and there is still plenty of room for authors to be lazy about notation. For more discussion see this dedicated (and opinionated) blogpost by [Rob Zinokow](http://www.zinkov.com/posts/2013-07-28-stop-using-plates/index.html).\n",
    "\n",
    "Possibly the biggest issue with plate notation is the lack of facility to show which distributions are used for each parameter. In the above example, we don't actually see that both $y_{i}$ and $\\beta$ are chosen from $Normal$ distributions, and that $\\epsilon$ is chosen from a $HalfCauchy$ distribution. This doesn't completely ruin the representation of the model, and indeed selecting the appropriate distributions for a model is something of an art, but it does impact the reproducability of the documentation, and requires that we also spell out the model mathematically - somewhat negating the compact representation of plate notation.\n",
    "\n",
    "One great remedy is that chosen by John Krushke, author of the brilliant practical guide [Doing Bayesian Data Analysis](https://sites.google.com/site/doingbayesiandataanalysis/) (a.k.a \"the Dogs Book\"). He has pioneered a notation style now known as \"Krushke Diagrams\" which show the parameter distributions, stochatistic & determinstic relations, and whether values are constant, variable, or parameters. [See this blogpost for worked examples and illustration software](http://doingbayesiandataanalysis.blogspot.co.uk/2013/10/diagrams-for-hierarchical-models-new.html).\n",
    "\n",
    "> That said, let's press on with plate notation using `daft-pgm` and see what we can do."
   ]
  },
  {
   "cell_type": "markdown",
   "metadata": {},
   "source": [
    "---\n",
    "\n",
    "---"
   ]
  },
  {
   "cell_type": "markdown",
   "metadata": {},
   "source": [
    "# Unpooled Model"
   ]
  },
  {
   "cell_type": "markdown",
   "metadata": {},
   "source": [
    "Here we allow each manufacturer (`mfr`) level to have a separate \"unpooled\" intercept. This would let us infer some difference between the cars according to their manufacturer.\n",
    "\n",
    "$$y_{i} \\sim \\mathcal{N}(\\beta_{mfr} + \\beta^{T} \\mathbf{x}_{i},\\epsilon)$$\n",
    "\n",
    "where:  \n",
    "+ $y_{i} \\sim \\mathcal{Normal}$ is the observed real value for item, $i$  \n",
    "+ $\\mathbf{x}_{i}$ is a vector of descriptive features for each item, $i$  \n",
    "+ $\\epsilon \\sim \\mathcal{HalfCauchy}(0, 10)$ is random noise in the measurement\n",
    "+ $\\beta$ are our pooled coeffs in the linear model  \n",
    "\n",
    "and:  \n",
    "+ $\\beta_{mfr} \\sim \\mathcal{N}(\\mu_{mfr}, \\sigma^{2}_{mfr})$ is a separate (unpooled) intercept for each manufacturer  \n",
    "$\\;\\;\\;\\;\\;\\;\\;\\;\\;\\;\\;\\;|\\_\\_ \\mu_{mfr} \\sim \\mathcal{N}(0, 100) \\;\\;;\\;\\;\n",
    "\\sigma^{2}_{mfr} \\sim \\mathcal{HalfCauchy}(0, 10)$ \n",
    "\n",
    "\n"
   ]
  },
  {
   "cell_type": "code",
   "execution_count": 88,
   "metadata": {
    "collapsed": false
   },
   "outputs": [
    {
     "data": {
      "image/png": "[encoded data removed]",
      "text/plain": [
       "<matplotlib.figure.Figure at 0x10432e0b8>"
      ]
     },
     "metadata": {},
     "output_type": "display_data"
    }
   ],
   "source": [
    "# create the basic daft-pgm layout, shape, size, and various styling\n",
    "pgm = daft.PGM(shape=[4.5, 3.5], origin=[0, 0], grid_unit=4,\n",
    "               label_params={'fontsize':18}, observed_style='shaded')\n",
    "\n",
    "# observed data\n",
    "pgm.add_node(daft.Node(\"y\", r\"$y_i$\", 2, 1.4, scale=2, observed=True))\n",
    "pgm.add_node(daft.Node(\"x\", r\"$\\mathbf{x}_{i}$\", 2, 0.8, \n",
    "                       scale=2, fixed=True, offset=(0,-30)))\n",
    "\n",
    "# individual item plate\n",
    "pgm.add_plate(daft.Plate([1.5, 0.5, 1, 1.4], label=r\"$n \\in 1:N$\", \n",
    "                         shift=-0.1))\n",
    "\n",
    "# mfr parameters\n",
    "pgm.add_node(daft.Node(\"beta_mfr\", r\"$\\beta_{mfr}$\", 1, 1.4, scale=2))\n",
    "pgm.add_node(daft.Node(\"beta_mfr_mu\", r\"$\\mu_{mfr}$\", 0.8, 0.8, scale=2,\n",
    "                       fixed=True, offset=(0,-30)))\n",
    "pgm.add_node(daft.Node(\"beta_mfr_sd\", r\"$\\sigma^{2}_{mfr}$\", 1.2, 0.8, \n",
    "                       scale=2, fixed=True, offset=(0,-30)))\n",
    "\n",
    "# mfr plate \n",
    "pgm.add_plate(daft.Plate([0.5, 0.4, 2.1, 1.6], \n",
    "                         label=r\"$mfr \\in 1:N_{mfr}$\", shift=-0.1))\n",
    "\n",
    "# pooled beta\n",
    "pgm.add_node(daft.Node(\"beta\", r\"$\\beta$\", 2, 2.4, scale=2))\n",
    "pgm.add_node(daft.Node(\"beta_mu\", r\"$\\mu$\", 1.8, 3, scale=2,\n",
    "                       fixed=True, offset=(0,10)))\n",
    "pgm.add_node(daft.Node(\"beta_sd\", r\"$\\sigma^{2}$\", 2.2, 3, scale=2,\n",
    "                       fixed=True, offset=(0,6)))\n",
    "\n",
    "# pooled measurement error\n",
    "pgm.add_node(daft.Node(\"epsilon\", r\"$\\epsilon$\", 3, 1.4, scale=2))\n",
    "\n",
    "\n",
    "# draw directed edges\n",
    "pgm.add_edge(\"beta_mfr_mu\", \"beta_mfr\")\n",
    "pgm.add_edge(\"beta_mfr_sd\", \"beta_mfr\")\n",
    "pgm.add_edge(\"beta_mfr\", \"y\")\n",
    "pgm.add_edge(\"beta_mu\", \"beta\")\n",
    "pgm.add_edge(\"beta_sd\", \"beta\")\n",
    "pgm.add_edge(\"beta\", \"y\")\n",
    "pgm.add_edge(\"x\", \"y\")\n",
    "pgm.add_edge(\"epsilon\", \"y\")\n",
    "\n",
    "# render\n",
    "pgm.render()\n",
    "plt.show()"
   ]
  },
  {
   "cell_type": "markdown",
   "metadata": {},
   "source": [
    "**Observe:**\n",
    "\n",
    "This is largely the same as the pooled model, except for new additions:\n",
    "\n",
    "+ $\\beta_{mfr}$ is a single value pooled at the `mfr` level, so it is located outside the _item plate_, but inside a plate of it's own for $mfr \\in 1:N_{mfr}$\n",
    "    + $\\mu$ and $\\sigma^{2}$ are both hyperparameters of the $\\beta_mfr$ parameter describing its _mean_ and _standard deviation_\n",
    "    + Importantly, $\\mu$ and $\\sigma^{2}$ are inside the _mfr plate_ indicating that they too, vary per `mfr` level, and are \"unpooled\"\n",
    "   "
   ]
  },
  {
   "cell_type": "markdown",
   "metadata": {},
   "source": [
    "**Discussion:**\n",
    "\n",
    "+ It's starting to get a bit messy. \n",
    "+ `daft-pgm` is handling this just fine, but there's a lot of ink on the page and if the model became any more complicated, it might become unhelpful.\n",
    "\n",
    "> From here on, we'll simplify the diagram by excluding the fixed variables if they are on the same plate as their child."
   ]
  },
  {
   "cell_type": "markdown",
   "metadata": {},
   "source": [
    "---\n",
    "\n",
    "---"
   ]
  },
  {
   "cell_type": "markdown",
   "metadata": {},
   "source": [
    "# Partially-Pooled Model"
   ]
  },
  {
   "cell_type": "markdown",
   "metadata": {},
   "source": [
    "Here we place partial-pooling on intercept only: this hyperparameter lets us - in a balanced way - determine a difference between manufacturers `mfr` $m \\in manufacturer$, keeping all other features constant\n",
    "\n",
    "$$y_{i} \\sim \\mathcal{N}(\\beta_{mfr} + \\beta^{T} \\mathbf{x}_{i},\\epsilon)$$\n",
    "\n",
    "where:  \n",
    "+ $y_{i} \\sim \\mathcal{Normal}$ is the observed real value for item, $i$  \n",
    "+ $\\mathbf{x}_{i}$ is a vector of descriptive features for each item, $i$  \n",
    "+ $\\epsilon \\sim \\mathcal{HalfCauchy}(0, 10)$ is random noise in the measurement\n",
    "+ $\\beta$ are our pooled coeffs in the linear model  \n",
    "\n",
    "and:  \n",
    "+ $\\beta_{mfr} \\sim \\mathcal{N}(\\mu, \\sigma^{2})$ is a separate unpooled intercept for each manufacturer with pooled hyperparameters \n",
    "$\\;\\;\\;\\;\\;\\;\\;\\;\\;\\;\\;\\;|\\_\\_ \\mu \\sim \\mathcal{N}(0, 100) \\;\\;;\\;\\;\n",
    "\\sigma^{2} \\sim \\mathcal{HalfCauchy}(0, 10)$ "
   ]
  },
  {
   "cell_type": "code",
   "execution_count": 105,
   "metadata": {
    "collapsed": false
   },
   "outputs": [
    {
     "data": {
      "image/png": "[encoded data removed]",
      "text/plain": [
       "<matplotlib.figure.Figure at 0x10cb4b390>"
      ]
     },
     "metadata": {},
     "output_type": "display_data"
    }
   ],
   "source": [
    "# create the basic daft-pgm layout, shape, size, and various styling\n",
    "pgm = daft.PGM(shape=[4.5, 2.5], origin=[0, 0], grid_unit=4,\n",
    "               label_params={'fontsize':18}, observed_style='shaded')\n",
    "\n",
    "# observed data\n",
    "pgm.add_node(daft.Node(\"y\", r\"$y_i$\", 2, 1, scale=2, observed=True))\n",
    "\n",
    "# individual item plate\n",
    "pgm.add_plate(daft.Plate([1.5, 0.5, 1, 1], label=r\"$n \\in 1:N$\", \n",
    "                         shift=-0.1))\n",
    "\n",
    "# mfr parameters\n",
    "pgm.add_node(daft.Node(\"beta_mfr\", r\"$\\beta_{mfr}$\", 1, 1, scale=2))\n",
    "pgm.add_node(daft.Node(\"beta_mfr_mu\", r\"$\\mu$\", 0.2, 1.2, scale=2, \n",
    "                       fixed=True, offset=(0,-30)))\n",
    "pgm.add_node(daft.Node(\"beta_mfr_sd\", r\"$\\sigma^{2}$\", 0.2, 0.8, \n",
    "                       scale=2, fixed=True, offset=(0,-30)))\n",
    "\n",
    "# mfr plate\n",
    "pgm.add_plate(daft.Plate([0.5, 0.4, 2.1, 1.2], \n",
    "                         label=r\"$mfr \\in 1:N_{mfr}$\", shift=-0.1))\n",
    "\n",
    "# pooled beta\n",
    "pgm.add_node(daft.Node(\"beta\", r\"$\\beta$\", 2, 2, scale=2))\n",
    "\n",
    "# pooled measurement error\n",
    "pgm.add_node(daft.Node(\"epsilon\", r\"$\\epsilon$\", 3, 1, scale=2))\n",
    "\n",
    "\n",
    "# draw directed edges\n",
    "pgm.add_edge(\"beta_mfr_mu\", \"beta_mfr\")\n",
    "pgm.add_edge(\"beta_mfr_sd\", \"beta_mfr\")\n",
    "pgm.add_edge(\"beta_mfr\", \"y\")\n",
    "pgm.add_edge(\"beta\", \"y\")\n",
    "pgm.add_edge(\"epsilon\", \"y\")\n",
    "\n",
    "# render\n",
    "pgm.render()\n",
    "plt.show()"
   ]
  },
  {
   "cell_type": "markdown",
   "metadata": {},
   "source": [
    "**Observe:**\n",
    "\n",
    "+ This diagram is simpler than that for the unpooled model, we have removed the fixed nodes that are on the same plate as their children: $\\mathbf{x}_i$, and the $\\mu$ and $\\sigma^{2}$ hyperparamters for $\\beta$.\n",
    "+ We also easily see the _partial pooling_ on $\\beta_{mfr}$, wherein the $\\beta_{mfr}$ distribution is unpooled (allowed to vary per `mfr` level), but its hyperparameters $\\mu$ and $\\sigma^{2}$ are pooled."
   ]
  },
  {
   "cell_type": "markdown",
   "metadata": {},
   "source": [
    "**Discussion:**\n",
    "\n",
    "+ By removing the fixed nodes at the same level as their children, we gain clarity without much loss of comprehension\n",
    "+ The nested nature of the partial pooling is also now more clear\n",
    "\n",
    "> Let's continue the nesting to another level of hierarchy"
   ]
  },
  {
   "cell_type": "markdown",
   "metadata": {},
   "source": [
    "---\n",
    "\n",
    "---"
   ]
  },
  {
   "cell_type": "markdown",
   "metadata": {},
   "source": [
    "# Two-level Hierarchical Model"
   ]
  },
  {
   "cell_type": "markdown",
   "metadata": {},
   "source": [
    "Each manufacturer is really just a brand-marque of a larger parent company which may own several brands. It's quite possible that a group of manufacturers under a parent group could be affected by the parent and thereby pool or \"share\" information.\n",
    "\n",
    "We restate the linear model:\n",
    "\n",
    "$$y_{i} \\sim \\mathcal{N}(\\beta_{mfr} + \\beta^{T} \\mathbf{x}_{i},\\epsilon)$$\n",
    "\n",
    "where:  \n",
    "+ $y_{i} \\sim \\mathcal{Normal}$ is the observed real value for item, $i$  \n",
    "+ $\\mathbf{x}_{i}$ is a vector of descriptive features for each item, $i$  \n",
    "+ $\\epsilon \\sim \\mathcal{HalfCauchy}(0, 10)$ is random noise in the measurement\n",
    "+ $\\beta$ are our pooled coeffs in the linear model  \n",
    "\n",
    "and:  \n",
    "+ $\\beta_{mfr} \\sim \\mathcal{N}(\\mu_{parent}, \\sigma^{2})$ is a separate partial-pooled intercept for each `mfr` with hyperparameters that depend upon the `parent`, which itself is partial-pooled\n",
    "$\\;\\;\\;\\;\\;\\;\\;\\;\\;\\;\\;\\;\\;\\;\\;\\;|\\_\\_ \\mu_{parent} \\sim \\mathcal{N}(\\mu, \\sigma^{2}) \\;\\;;\\;\\;\n",
    "\\sigma^{2} \\sim \\mathcal{HalfCauchy}(0, 10)$ \n",
    "$\\;\\;\\;\\;\\;\\;\\;\\;\\;\\;\\;\\;\\;\\;\\;\\;\\;\\;\\;\\;\\;\\;\\;\\;\\;\\;\\;\\;\\;\\;\\;\\;\\;\\;\\;\\;\\;\\;|\\_\\_  \\mu \\sim \\mathcal{N}(0, 10) \\;\\; ; \\;\\; \\sigma^{2}\\sim \\mathcal{HalfCauchy}(0, 10)$  \n",
    "\n",
    "\n",
    "\n"
   ]
  },
  {
   "cell_type": "code",
   "execution_count": 123,
   "metadata": {
    "collapsed": false
   },
   "outputs": [
    {
     "data": {
      "image/png": "[encoded data removed]",
      "text/plain": [
       "<matplotlib.figure.Figure at 0x10dc96ef0>"
      ]
     },
     "metadata": {},
     "output_type": "display_data"
    }
   ],
   "source": [
    "# create the basic daft-pgm layout, shape, size, and various styling\n",
    "pgm = daft.PGM(shape=[5.5, 2.5], origin=[0, 0], grid_unit=4,\n",
    "               label_params={'fontsize':18}, observed_style='shaded')\n",
    "\n",
    "# observed data\n",
    "pgm.add_node(daft.Node(\"y\", r\"$y_i$\", 3, 1, scale=2, observed=True))\n",
    "\n",
    "# individual item plate\n",
    "pgm.add_plate(daft.Plate([2.5, 0.5, 1, 1], label=r\"$n \\in 1:N$\", \n",
    "                         shift=-0.1))\n",
    "\n",
    "# mfr parameters\n",
    "pgm.add_node(daft.Node(\"beta_mfr\", r\"$\\beta_{mfr}$\", 2, 1, scale=2))\n",
    "pgm.add_node(daft.Node(\"beta_mfr_mu\", r\"$\\mu_{parent}$\", 1, 1, scale=2))\n",
    "pgm.add_node(daft.Node(\"beta_mfr_sd\", r\"$\\sigma^{2}$\", 2, 2, scale=2, \n",
    "                       fixed=True, offset=(0,10)))\n",
    "\n",
    "# mfr plate\n",
    "pgm.add_plate(daft.Plate([1.5, 0.4, 2.1, 1.2], \n",
    "                         label=r\"$mfr \\in 1:N_{mfr}$\", shift=-0.1))\n",
    "\n",
    "# parent hyperparameters\n",
    "pgm.add_node(daft.Node(\"parent_mu\", r\"$\\mu$\", 0.2, 1, scale=2, \n",
    "                       fixed=True, offset=(0,10)))\n",
    "pgm.add_node(daft.Node(\"parent_sd\", r\"$\\sigma^{2}$\", 1, 2, scale=2, \n",
    "                       fixed=True, offset=(0,10)))\n",
    "\n",
    "# parent plate\n",
    "pgm.add_plate(daft.Plate([0.5, 0.3, 3.2, 1.4], \n",
    "                         label=r\"$parent \\in 1:N_{parent}$\", shift=-0.1))\n",
    "\n",
    "# pooled beta\n",
    "pgm.add_node(daft.Node(\"beta\", r\"$\\beta$\", 3, 2.2, scale=2))\n",
    "\n",
    "# pooled measurement error\n",
    "pgm.add_node(daft.Node(\"epsilon\", r\"$\\epsilon$\", 4.2, 1, scale=2))\n",
    "\n",
    "\n",
    "# draw directed edges\n",
    "pgm.add_edge(\"parent_mu\", \"beta_mfr_mu\")\n",
    "pgm.add_edge(\"parent_sd\", \"beta_mfr_mu\")\n",
    "pgm.add_edge(\"beta_mfr_mu\", \"beta_mfr\")\n",
    "pgm.add_edge(\"beta_mfr_sd\", \"beta_mfr\")\n",
    "pgm.add_edge(\"beta_mfr\", \"y\")\n",
    "pgm.add_edge(\"beta\", \"y\")\n",
    "pgm.add_edge(\"epsilon\", \"y\")\n",
    "\n",
    "# render\n",
    "pgm.render()\n",
    "plt.show()"
   ]
  },
  {
   "cell_type": "markdown",
   "metadata": {},
   "source": [
    "**Observe:**\n",
    "\n",
    "+ The nested hierarchy becomes really clear using this plate notation, and it becomes very simple to compare to the previous partial-pooled, unpooled and pooled models\n",
    "+ The arrows (directed graph) really comes into play too, as it shows us the flow of the algorithm and helps to clarify the precise notation of the $\\mu$ and $\\sigma^{2}$ hyperparameters"
   ]
  },
  {
   "cell_type": "markdown",
   "metadata": {},
   "source": [
    "**Discussion:**\n",
    "\n",
    "+ The above diagrams show a reasoned progression from a basic pooled linear model right up to a two-level nested hierarchical linear model.\n",
    "+ Plate notation is a very useful addition to mathematical notation, and `daft-pgm` makes it fairly straightforward to construct these diagrams entirely in Python, using a simple API based on the familiar `matplotlib` package.\n",
    "+ Finally, even with this most complicated hierarchical model, the code required to control the `daft-pgm` diagram is not too onerous, and can be easily broken into a separate class / file if desired."
   ]
  },
  {
   "cell_type": "markdown",
   "metadata": {},
   "source": [
    "---\n",
    "**Applied AI Ltd &copy; 2016**  \n",
    "<a href='http://www.applied.ai'>applied.ai</a>"
   ]
  }
 ],
 "metadata": {
  "anaconda-cloud": {},
  "kernelspec": {
   "display_name": "Python [default]",
   "language": "python",
   "name": "python3"
  },
  "language_info": {
   "codemirror_mode": {
    "name": "ipython",
    "version": 3
   },
   "file_extension": ".py",
   "mimetype": "text/x-python",
   "name": "python",
   "nbconvert_exporter": "python",
   "pygments_lexer": "ipython3",
   "version": "3.5.2"
  }
 },
 "nbformat": 4,
 "nbformat_minor": 0
}
